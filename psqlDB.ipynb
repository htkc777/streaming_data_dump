{
 "cells": [
  {
   "cell_type": "code",
   "execution_count": 1,
   "id": "40a4612c",
   "metadata": {},
   "outputs": [
    {
     "name": "stdout",
     "output_type": "stream",
     "text": [
      "Requirement already satisfied: psycopg2 in c:\\python\\python310\\lib\\site-packages (2.9.5)\n"
     ]
    }
   ],
   "source": [
    "! pip install psycopg2"
   ]
  },
  {
   "cell_type": "code",
   "execution_count": 2,
   "id": "57c68dd1",
   "metadata": {},
   "outputs": [],
   "source": [
    "import psycopg2\n",
    "\n",
    "conn = psycopg2.connect(\n",
    "   database=\"oslo_city_bike\", user='postgres', password='root', host='127.0.0.1', port= '5432'\n",
    ")\n",
    "\n",
    "cursor = conn.cursor()\n",
    "#Creating Database Oslo_city_bike\n",
    "# sql = '''CREATE database OSLO_City_Bike''';\n",
    "# cursor.execute(sql)\n",
    "# conn.commit()\n",
    "#Creating Table Station_Status\n",
    "cursor.execute(\"DROP TABLE IF EXISTS Station_Status\")\n",
    "sql ='''CREATE TABLE Station_Status(\n",
    "    Station_id CHAR(20) NOT NULL,\n",
    "    is_installed INT,\n",
    "    is_renting INT,\n",
    "    is_returning INT,\n",
    "    last_reported INT,\n",
    "    num_bikes_available INT,\n",
    "    num_docks_available INT\n",
    ")'''\n",
    "cursor.execute(sql)\n",
    "conn.commit()\n",
    "\n",
    "conn.close()"
   ]
  },
  {
   "cell_type": "code",
   "execution_count": null,
   "id": "c9ea2674",
   "metadata": {},
   "outputs": [],
   "source": []
  },
  {
   "cell_type": "code",
   "execution_count": null,
   "id": "32a7df50",
   "metadata": {},
   "outputs": [],
   "source": []
  }
 ],
 "metadata": {
  "kernelspec": {
   "display_name": "Python 3 (ipykernel)",
   "language": "python",
   "name": "python3"
  },
  "language_info": {
   "codemirror_mode": {
    "name": "ipython",
    "version": 3
   },
   "file_extension": ".py",
   "mimetype": "text/x-python",
   "name": "python",
   "nbconvert_exporter": "python",
   "pygments_lexer": "ipython3",
   "version": "3.10.7"
  }
 },
 "nbformat": 4,
 "nbformat_minor": 5
}
