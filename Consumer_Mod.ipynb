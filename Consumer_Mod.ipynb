{
 "cells": [
  {
   "cell_type": "code",
   "execution_count": 1,
   "id": "95effdee",
   "metadata": {},
   "outputs": [],
   "source": [
    "# from kafka import KafkaConsumer\n",
    "import json\n",
    "# from json import loads\n",
    "from kafka import KafkaConsumer\n",
    "from json import loads\n",
    "from datetime import datetime\n",
    "import psycopg2"
   ]
  },
  {
   "cell_type": "code",
   "execution_count": 2,
   "id": "dbc144d6",
   "metadata": {},
   "outputs": [],
   "source": [
    "consumer = KafkaConsumer('jsonAmit',bootstrap_servers=[\"localhost:9092\"],api_version=(0, 10, 1))"
   ]
  },
  {
   "cell_type": "code",
   "execution_count": 3,
   "id": "cae6bfa7",
   "metadata": {},
   "outputs": [],
   "source": [
    "# consumer = KafkaConsumer(\n",
    "#     'jsonAmit',\n",
    "#      bootstrap_servers=['localhost:9092'],\n",
    "#      auto_offset_reset='earliest',\n",
    "#      enable_auto_commit=True,\n",
    "# #    group_id='my-group',\n",
    "#      value_deserializer=lambda x: loads(x.decode('utf-8')))"
   ]
  },
  {
   "cell_type": "code",
   "execution_count": 4,
   "id": "7adf7cfb",
   "metadata": {},
   "outputs": [],
   "source": [
    "conn = psycopg2.connect( database=\"oslo_city_bike\", user='postgres', password='root', host='127.0.0.1', port= '5432')\n",
    "cursor = conn.cursor()"
   ]
  },
  {
   "cell_type": "code",
   "execution_count": null,
   "id": "4dfba612",
   "metadata": {},
   "outputs": [],
   "source": [
    "for message in consumer:\n",
    "    message = message.value\n",
    "    m = json.loads(message)\n",
    "    timestamp = m['last_updated']\n",
    "    dt_object = datetime.fromtimestamp(timestamp)\n",
    "    m['Date'] = dt_object.strftime(\"%b %d %Y %H:%M:%S\")\n",
    "    datehrs = dt_object.strftime(\"%b %d %Y %H:%M:%S\")\n",
    "    for station in m['data']['stations']:\n",
    "        cursor.execute(\"INSERT INTO Station_Status (Station_id,is_installed, is_renting, is_returning,last_reported,num_bikes_available,num_docks_available) VALUES (%s,%s,%s,%s,%s,%s,%s)\", (station['station_id'],station['is_installed'],station['is_renting'],station['is_returning'],station['last_reported'],station['num_bikes_available'],station['num_docks_available']))\n",
    "        conn.commit()\n",
    "#     print('Data at {} added to POSTGRESQL'.format(collection))\n",
    "\n",
    "conn.close()"
   ]
  },
  {
   "cell_type": "code",
   "execution_count": null,
   "id": "82c90adb",
   "metadata": {},
   "outputs": [],
   "source": [
    "# for message in consumer:\n",
    "#     print(message.value)"
   ]
  },
  {
   "cell_type": "code",
   "execution_count": null,
   "id": "b5a0087d",
   "metadata": {},
   "outputs": [],
   "source": []
  }
 ],
 "metadata": {
  "kernelspec": {
   "display_name": "Python 3 (ipykernel)",
   "language": "python",
   "name": "python3"
  },
  "language_info": {
   "codemirror_mode": {
    "name": "ipython",
    "version": 3
   },
   "file_extension": ".py",
   "mimetype": "text/x-python",
   "name": "python",
   "nbconvert_exporter": "python",
   "pygments_lexer": "ipython3",
   "version": "3.10.7"
  }
 },
 "nbformat": 4,
 "nbformat_minor": 5
}
